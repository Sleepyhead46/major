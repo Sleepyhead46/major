{
 "cells": [
  {
   "cell_type": "code",
   "execution_count": 1,
   "metadata": {},
   "outputs": [
    {
     "name": "stderr",
     "output_type": "stream",
     "text": [
      "C:\\Users\\sdesh\\AppData\\Local\\Packages\\PythonSoftwareFoundation.Python.3.11_qbz5n2kfra8p0\\LocalCache\\local-packages\\Python311\\site-packages\\numpy\\_distributor_init.py:30: UserWarning: loaded more than 1 DLL from .libs:\n",
      "C:\\Users\\sdesh\\AppData\\Local\\Packages\\PythonSoftwareFoundation.Python.3.11_qbz5n2kfra8p0\\LocalCache\\local-packages\\Python311\\site-packages\\numpy\\.libs\\libopenblas.FB5AE2TYXYH2IJRDKGDGQ3XBKLKTF43H.gfortran-win_amd64.dll\n",
      "C:\\Users\\sdesh\\AppData\\Local\\Packages\\PythonSoftwareFoundation.Python.3.11_qbz5n2kfra8p0\\LocalCache\\local-packages\\Python311\\site-packages\\numpy\\.libs\\libopenblas64__v0.3.21-gcc_10_3_0.dll\n",
      "  warnings.warn(\"loaded more than 1 DLL from .libs:\"\n"
     ]
    }
   ],
   "source": [
    "import pandas as pd\n",
    "\n",
    "# Load the original dataset with explicit encoding\n",
    "original_data = pd.read_csv(\"fruit.csv\", encoding='ISO-8859-1')\n",
    "\n",
    "# Load the new dataset with explicit encoding\n",
    "new_data = pd.read_csv(\"Chayote.csv\", encoding='ISO-8859-1')\n",
    "\n",
    "# Map column names from new dataset to original dataset\n",
    "column_mapping = {\n",
    "    \"Crop\": \"label\",\n",
    "    \"pH\": \"ph\",\n",
    "    \"Temperature (°C)\": \"temperature\",\n",
    "    \"Humidity (%)\": \"humidity\",\n",
    "    \"Altitude (m)\": \"altitude\",\n",
    "    \"Rainfall (mm)\": \"rainfall\",\n",
    "    \"Nitrogen (mg/kg)\": \"N\",\n",
    "    \"Phosphorus (mg/kg)\": \"P\",\n",
    "    \"Potassium (mg/kg)\": \"K\"\n",
    "}\n",
    "\n",
    "# Rename columns in the new dataset to match the original dataset\n",
    "new_data.rename(columns=column_mapping, inplace=True)\n",
    "\n",
    "# Concatenate the datasets\n",
    "combined_data = pd.concat([original_data, new_data], ignore_index=True)\n",
    "\n",
    "# Save the combined dataset\n",
    "combined_data.to_csv(\"combined_data.csv\", index=False)\n"
   ]
  },
  {
   "cell_type": "code",
   "execution_count": 17,
   "metadata": {},
   "outputs": [],
   "source": [
    "import os\n",
    "import pandas as pd\n",
    "\n",
    "# Load the original dataset\n",
    "original_data = pd.read_csv(\"fruit.csv\")\n",
    "\n",
    "# Define the folder containing the new datasets\n",
    "folder_path = \"crops\"\n",
    "\n",
    "# Iterate over each file in the folder\n",
    "for file_name in os.listdir(folder_path):\n",
    "    if file_name.endswith(\".csv\"):\n",
    "        file_path = os.path.join(folder_path, file_name)\n",
    "        # Load the new dataset with explicit encoding\n",
    "        new_data = pd.read_csv(file_path, encoding='ISO-8859-1')\n",
    "\n",
    "        # Map column names from new dataset to original dataset\n",
    "        column_mapping = {\n",
    "            \"Crop\": \"label\",\n",
    "            \"pH\": \"ph\",\n",
    "            \"Temperature (°C)\": \"temperature\",\n",
    "            \"Temperature (�C)\": \"temperature\",\n",
    "            \"Temperature (Â°C)\": \"temperature\",\n",
    "            \"Temperature (ÃÂ°C)\": \"temperature\",\n",
    "            \"Humidity (%)\": \"humidity\",\n",
    "            \"Altitude (m)\": \"altitude\",\n",
    "            \"Rainfall (mm)\": \"rainfall\",\n",
    "            \"Nitrogen (mg/kg)\": \"N\",\n",
    "            \"Phosphorus (mg/kg)\": \"P\",\n",
    "            \"Potassium (mg/kg)\": \"K\"\n",
    "        }\n",
    "\n",
    "        # Rename columns in the new dataset to match the original dataset\n",
    "        new_data.rename(columns=column_mapping, inplace=True)\n",
    "\n",
    "        # Concatenate the datasets\n",
    "        combined_data = pd.concat([original_data, new_data], ignore_index=True)\n",
    "\n",
    "        # Update the original dataset with the combined data\n",
    "        original_data = combined_data\n",
    "\n",
    "# Save the final combined dataset\n",
    "combined_data.to_csv(\"fruit.csv\", index=False)\n"
   ]
  }
 ],
 "metadata": {
  "kernelspec": {
   "display_name": "Python 3",
   "language": "python",
   "name": "python3"
  },
  "language_info": {
   "codemirror_mode": {
    "name": "ipython",
    "version": 3
   },
   "file_extension": ".py",
   "mimetype": "text/x-python",
   "name": "python",
   "nbconvert_exporter": "python",
   "pygments_lexer": "ipython3",
   "version": "3.11.8"
  }
 },
 "nbformat": 4,
 "nbformat_minor": 2
}
