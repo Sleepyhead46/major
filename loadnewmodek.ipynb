{
 "cells": [
  {
   "cell_type": "code",
   "execution_count": null,
   "metadata": {},
   "outputs": [],
   "source": [
    "from sklearn.neural_network import MLPClassifier\n",
    "from sklearn.metrics import accuracy_score\n",
    "import joblib\n",
    "\n",
    "# Load the existing MLP model\n",
    "filename_mlp = 'mlp_model.pkl'\n",
    "with open(filename_mlp, 'rb') as file:\n",
    "    MLP = joblib.load(file)\n",
    "\n",
    "# Train the MLP model on the new dataset\n",
    "MLP.partial_fit(X_train, y_train, classes=np.unique(y_train))\n",
    "\n",
    "# Save the updated model to the same file\n",
    "with open(filename_mlp, 'wb') as file:\n",
    "    joblib.dump(MLP, file)\n",
    "\n",
    "# Evaluate the model on the test set\n",
    "test_accuracy_mlp = MLP.score(X_test, y_test)\n",
    "print(\"MLP Accuracy on Test Set: \", test_accuracy_mlp)\n"
   ]
  },
  {
   "cell_type": "code",
   "execution_count": null,
   "metadata": {},
   "outputs": [],
   "source": [
    "import pandas as pd\n",
    "import numpy as np\n",
    "from sklearn.model_selection import train_test_split\n",
    "from sklearn.preprocessing import StandardScaler\n",
    "from sklearn.ensemble import RandomForestClassifier\n",
    "from sklearn.metrics import accuracy_score\n",
    "import joblib\n",
    "\n",
    "# Load the balanced dataset\n",
    "balanced_df = pd.read_csv('new_dataset.csv')\n",
    "\n",
    "# Feature scaling\n",
    "scaler = StandardScaler()\n",
    "features = balanced_df.drop('label', axis=1)\n",
    "target = balanced_df['label']\n",
    "scaled_features = scaler.fit_transform(features)\n",
    "\n",
    "# Split the data into train, validation, and test sets\n",
    "X_train, X_temp, y_train, y_temp = train_test_split(scaled_features, target, test_size=0.3, random_state=42)\n",
    "X_val, X_test, y_val, y_test = train_test_split(X_temp, y_temp, test_size=0.5, random_state=42)\n",
    "\n",
    "# Load the existing Random Forest model\n",
    "filename = 'rf_model.pkl'\n",
    "with open(filename, 'rb') as file:\n",
    "    RF = joblib.load(file)\n",
    "\n",
    "# Train the Random Forest Classifier on the new dataset\n",
    "RF.fit(X_train, y_train)\n",
    "\n",
    "# Save the updated model to the same file\n",
    "with open(filename, 'wb') as file:\n",
    "    joblib.dump(RF, file)\n",
    "\n",
    "# Evaluate the model on the test set\n",
    "test_accuracy = RF.score(X_test, y_test)\n",
    "print(\"Random Forest Accuracy on Test Set: \", test_accuracy)\n"
   ]
  }
 ],
 "metadata": {
  "language_info": {
   "name": "python"
  }
 },
 "nbformat": 4,
 "nbformat_minor": 2
}
